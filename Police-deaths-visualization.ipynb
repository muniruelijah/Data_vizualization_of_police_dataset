{
 "cells": [
  {
   "cell_type": "markdown",
   "metadata": {},
   "source": [
    "# Problem Statements\n",
    " * 1 Which rank has the highest number of deaths\n",
    " * 2 Has the number of deaths decreased or increased \n",
    " * 3 What is the most common cause of deaths \n",
    " * 4 What state has the highest  number of deaths "
   ]
  },
  {
   "cell_type": "markdown",
   "metadata": {},
   "source": [
    "# Importing the Libraries "
   ]
  },
  {
   "cell_type": "code",
   "execution_count": 1,
   "metadata": {},
   "outputs": [],
   "source": [
    "import pandas as pd\n",
    "import matplotlib as plt\n",
    "import seaborn as sns \n",
    "import numpy as np"
   ]
  },
  {
   "cell_type": "markdown",
   "metadata": {},
   "source": [
    "# Importing and exploring the Dataset"
   ]
  },
  {
   "cell_type": "code",
   "execution_count": 2,
   "metadata": {},
   "outputs": [],
   "source": [
    "police_df =  pd.read_csv('police_deaths_in_america.csv')"
   ]
  },
  {
   "cell_type": "code",
   "execution_count": 3,
   "metadata": {},
   "outputs": [
    {
     "data": {
      "text/html": [
       "<div>\n",
       "<style scoped>\n",
       "    .dataframe tbody tr th:only-of-type {\n",
       "        vertical-align: middle;\n",
       "    }\n",
       "\n",
       "    .dataframe tbody tr th {\n",
       "        vertical-align: top;\n",
       "    }\n",
       "\n",
       "    .dataframe thead th {\n",
       "        text-align: right;\n",
       "    }\n",
       "</style>\n",
       "<table border=\"1\" class=\"dataframe\">\n",
       "  <thead>\n",
       "    <tr style=\"text-align: right;\">\n",
       "      <th></th>\n",
       "      <th>Rank</th>\n",
       "      <th>Name</th>\n",
       "      <th>Cause_of_Death</th>\n",
       "      <th>Date</th>\n",
       "      <th>Year</th>\n",
       "      <th>Month</th>\n",
       "      <th>Day</th>\n",
       "      <th>Department</th>\n",
       "      <th>State</th>\n",
       "      <th>K9_Unit</th>\n",
       "    </tr>\n",
       "  </thead>\n",
       "  <tbody>\n",
       "    <tr>\n",
       "      <th>0</th>\n",
       "      <td>Constable</td>\n",
       "      <td>Darius Quimby</td>\n",
       "      <td>Stabbed</td>\n",
       "      <td>Monday, January 3, 1791</td>\n",
       "      <td>1791</td>\n",
       "      <td>January</td>\n",
       "      <td>Monday</td>\n",
       "      <td>Albany County Constable's Office, NY</td>\n",
       "      <td>New York</td>\n",
       "      <td>0</td>\n",
       "    </tr>\n",
       "    <tr>\n",
       "      <th>1</th>\n",
       "      <td>Sheriff</td>\n",
       "      <td>Cornelius Hogeboom</td>\n",
       "      <td>Gunfire</td>\n",
       "      <td>Saturday, October 22, 1791</td>\n",
       "      <td>1791</td>\n",
       "      <td>October</td>\n",
       "      <td>Saturday</td>\n",
       "      <td>Columbia County Sheriff's Office, NY</td>\n",
       "      <td>New York</td>\n",
       "      <td>0</td>\n",
       "    </tr>\n",
       "    <tr>\n",
       "      <th>2</th>\n",
       "      <td>Deputy Sheriff</td>\n",
       "      <td>Isaac Smith</td>\n",
       "      <td>Gunfire</td>\n",
       "      <td>Thursday, May 17, 1792</td>\n",
       "      <td>1792</td>\n",
       "      <td>May</td>\n",
       "      <td>Thursday</td>\n",
       "      <td>Westchester County Sheriff's Department, NY</td>\n",
       "      <td>New York</td>\n",
       "      <td>0</td>\n",
       "    </tr>\n",
       "    <tr>\n",
       "      <th>3</th>\n",
       "      <td>Marshal</td>\n",
       "      <td>Robert Forsyth</td>\n",
       "      <td>Gunfire</td>\n",
       "      <td>Saturday, January 11, 1794</td>\n",
       "      <td>1794</td>\n",
       "      <td>January</td>\n",
       "      <td>Saturday</td>\n",
       "      <td>United States Department of Justice - United S...</td>\n",
       "      <td>United States</td>\n",
       "      <td>0</td>\n",
       "    </tr>\n",
       "    <tr>\n",
       "      <th>4</th>\n",
       "      <td>Deputy Sheriff</td>\n",
       "      <td>Robert Berwick</td>\n",
       "      <td>Gunfire</td>\n",
       "      <td>Thursday, June 29, 1797</td>\n",
       "      <td>1797</td>\n",
       "      <td>June</td>\n",
       "      <td>Thursday</td>\n",
       "      <td>New York County Sheriff's Office, NY</td>\n",
       "      <td>New York</td>\n",
       "      <td>0</td>\n",
       "    </tr>\n",
       "  </tbody>\n",
       "</table>\n",
       "</div>"
      ],
      "text/plain": [
       "             Rank                Name Cause_of_Death  \\\n",
       "0       Constable       Darius Quimby        Stabbed   \n",
       "1         Sheriff  Cornelius Hogeboom        Gunfire   \n",
       "2  Deputy Sheriff         Isaac Smith        Gunfire   \n",
       "3         Marshal      Robert Forsyth        Gunfire   \n",
       "4  Deputy Sheriff      Robert Berwick        Gunfire   \n",
       "\n",
       "                         Date  Year    Month       Day  \\\n",
       "0     Monday, January 3, 1791  1791  January    Monday   \n",
       "1  Saturday, October 22, 1791  1791  October  Saturday   \n",
       "2      Thursday, May 17, 1792  1792      May  Thursday   \n",
       "3  Saturday, January 11, 1794  1794  January  Saturday   \n",
       "4     Thursday, June 29, 1797  1797     June  Thursday   \n",
       "\n",
       "                                          Department          State  K9_Unit  \n",
       "0               Albany County Constable's Office, NY       New York        0  \n",
       "1               Columbia County Sheriff's Office, NY       New York        0  \n",
       "2        Westchester County Sheriff's Department, NY       New York        0  \n",
       "3  United States Department of Justice - United S...  United States        0  \n",
       "4               New York County Sheriff's Office, NY       New York        0  "
      ]
     },
     "execution_count": 3,
     "metadata": {},
     "output_type": "execute_result"
    }
   ],
   "source": [
    "police_df.head()"
   ]
  },
  {
   "cell_type": "code",
   "execution_count": 4,
   "metadata": {},
   "outputs": [
    {
     "name": "stdout",
     "output_type": "stream",
     "text": [
      "<class 'pandas.core.frame.DataFrame'>\n",
      "RangeIndex: 26269 entries, 0 to 26268\n",
      "Data columns (total 10 columns):\n",
      " #   Column          Non-Null Count  Dtype \n",
      "---  ------          --------------  ----- \n",
      " 0   Rank            26269 non-null  object\n",
      " 1   Name            26269 non-null  object\n",
      " 2   Cause_of_Death  26269 non-null  object\n",
      " 3   Date            26269 non-null  object\n",
      " 4   Year            26269 non-null  int64 \n",
      " 5   Month           26269 non-null  object\n",
      " 6   Day             26269 non-null  object\n",
      " 7   Department      26269 non-null  object\n",
      " 8   State           26269 non-null  object\n",
      " 9   K9_Unit         26269 non-null  int64 \n",
      "dtypes: int64(2), object(8)\n",
      "memory usage: 2.0+ MB\n"
     ]
    }
   ],
   "source": [
    "police_df.info()"
   ]
  },
  {
   "cell_type": "code",
   "execution_count": 5,
   "metadata": {},
   "outputs": [
    {
     "data": {
      "text/plain": [
       "Index(['Rank', 'Name', 'Cause_of_Death', 'Date', 'Year', 'Month', 'Day',\n",
       "       'Department', 'State', 'K9_Unit'],\n",
       "      dtype='object')"
      ]
     },
     "execution_count": 5,
     "metadata": {},
     "output_type": "execute_result"
    }
   ],
   "source": [
    "police_df.columns"
   ]
  },
  {
   "cell_type": "code",
   "execution_count": 6,
   "metadata": {},
   "outputs": [
    {
     "data": {
      "text/plain": [
       "RangeIndex(start=0, stop=26269, step=1)"
      ]
     },
     "execution_count": 6,
     "metadata": {},
     "output_type": "execute_result"
    }
   ],
   "source": [
    "police_df.index"
   ]
  },
  {
   "cell_type": "code",
   "execution_count": 7,
   "metadata": {},
   "outputs": [
    {
     "name": "stdout",
     "output_type": "stream",
     "text": [
      "The Month column has 12 unique values\n",
      "The Day column has 7 unique values \n",
      "The State column has 58 unique values \n"
     ]
    }
   ],
   "source": [
    "# checking for data uniqueness constraint in the month, days and state columns\n",
    "print('The Month column has '+ str(len(police_df['Month'].unique())) + \" unique values\")\n",
    "print('The Day column has '  +str(len(police_df['Day'].unique())) + ' unique values ')\n",
    "print('The State column has '  +str(len(police_df['State'].unique())) + ' unique values ')"
   ]
  },
  {
   "cell_type": "code",
   "execution_count": 8,
   "metadata": {},
   "outputs": [
    {
     "data": {
      "text/plain": [
       "array(['New York', 'United States', 'South Carolina', 'Pennsylvania',\n",
       "       'North Carolina', 'Kentucky', 'Maine', 'Maryland', 'Vermont',\n",
       "       'Tennessee', 'Ohio', 'Virginia', 'Indiana', 'Massachusetts',\n",
       "       'Alabama', 'Rhode Island', 'Connecticut', 'Missouri', 'Texas',\n",
       "       'Georgia', 'Florida', 'Wisconsin', 'Arkansas', 'California',\n",
       "       'Louisiana', 'Delaware', 'Utah', 'Illinois', 'Washington',\n",
       "       'New Jersey', 'Michigan', 'Nevada', 'Colorado', 'Idaho', 'Oregon',\n",
       "       'Arizona', 'Kansas', 'Iowa', 'Nebraska', 'New Mexico',\n",
       "       'West Virginia', 'District of Columbia', 'Minnesota',\n",
       "       'New Hampshire', 'Wyoming', 'Montana', 'Mississippi',\n",
       "       'North Dakota', 'South Dakota', 'Oklahoma', 'Hawaii',\n",
       "       'Puerto Rico', 'Alaska', 'Panama', 'U.S. Virgin Islands', 'Guam',\n",
       "       'American Samoa', 'Northern Mariana Islands'], dtype=object)"
      ]
     },
     "execution_count": 8,
     "metadata": {},
     "output_type": "execute_result"
    }
   ],
   "source": [
    "# The state column has more than 50 unique values this should be checked \n",
    "police_df['State'].unique()"
   ]
  },
  {
   "cell_type": "code",
   "execution_count": 9,
   "metadata": {},
   "outputs": [],
   "source": [
    "# It turns out that the dataset contains data about the other us territory \n",
    "# Federal officer where represent as united states this is changed to federal\n",
    "police_df.loc[police_df['State'] == 'United States' , 'State'] = 'Federal'"
   ]
  },
  {
   "cell_type": "code",
   "execution_count": 10,
   "metadata": {},
   "outputs": [],
   "source": [
    "# converting the date column to datetime\n",
    "police_df['Date'] = pd.to_datetime(police_df['Date'], errors='coerce')"
   ]
  },
  {
   "cell_type": "code",
   "execution_count": 14,
   "metadata": {},
   "outputs": [],
   "source": [
    "# Since the data column is datetime drop the year and month columns \n",
    "police_df = police_df.drop(columns=['Year', 'Month'])"
   ]
  },
  {
   "cell_type": "code",
   "execution_count": 15,
   "metadata": {},
   "outputs": [
    {
     "data": {
      "text/html": [
       "<div>\n",
       "<style scoped>\n",
       "    .dataframe tbody tr th:only-of-type {\n",
       "        vertical-align: middle;\n",
       "    }\n",
       "\n",
       "    .dataframe tbody tr th {\n",
       "        vertical-align: top;\n",
       "    }\n",
       "\n",
       "    .dataframe thead th {\n",
       "        text-align: right;\n",
       "    }\n",
       "</style>\n",
       "<table border=\"1\" class=\"dataframe\">\n",
       "  <thead>\n",
       "    <tr style=\"text-align: right;\">\n",
       "      <th></th>\n",
       "      <th>Rank</th>\n",
       "      <th>Name</th>\n",
       "      <th>Cause_of_Death</th>\n",
       "      <th>Date</th>\n",
       "      <th>Day</th>\n",
       "      <th>Department</th>\n",
       "      <th>State</th>\n",
       "      <th>K9_Unit</th>\n",
       "    </tr>\n",
       "  </thead>\n",
       "  <tbody>\n",
       "    <tr>\n",
       "      <th>0</th>\n",
       "      <td>Constable</td>\n",
       "      <td>Darius Quimby</td>\n",
       "      <td>Stabbed</td>\n",
       "      <td>1791-01-03</td>\n",
       "      <td>Monday</td>\n",
       "      <td>Albany County Constable's Office, NY</td>\n",
       "      <td>New York</td>\n",
       "      <td>0</td>\n",
       "    </tr>\n",
       "    <tr>\n",
       "      <th>1</th>\n",
       "      <td>Sheriff</td>\n",
       "      <td>Cornelius Hogeboom</td>\n",
       "      <td>Gunfire</td>\n",
       "      <td>1791-10-22</td>\n",
       "      <td>Saturday</td>\n",
       "      <td>Columbia County Sheriff's Office, NY</td>\n",
       "      <td>New York</td>\n",
       "      <td>0</td>\n",
       "    </tr>\n",
       "    <tr>\n",
       "      <th>2</th>\n",
       "      <td>Deputy Sheriff</td>\n",
       "      <td>Isaac Smith</td>\n",
       "      <td>Gunfire</td>\n",
       "      <td>1792-05-17</td>\n",
       "      <td>Thursday</td>\n",
       "      <td>Westchester County Sheriff's Department, NY</td>\n",
       "      <td>New York</td>\n",
       "      <td>0</td>\n",
       "    </tr>\n",
       "    <tr>\n",
       "      <th>3</th>\n",
       "      <td>Marshal</td>\n",
       "      <td>Robert Forsyth</td>\n",
       "      <td>Gunfire</td>\n",
       "      <td>1794-01-11</td>\n",
       "      <td>Saturday</td>\n",
       "      <td>United States Department of Justice - United S...</td>\n",
       "      <td>Federal</td>\n",
       "      <td>0</td>\n",
       "    </tr>\n",
       "    <tr>\n",
       "      <th>4</th>\n",
       "      <td>Deputy Sheriff</td>\n",
       "      <td>Robert Berwick</td>\n",
       "      <td>Gunfire</td>\n",
       "      <td>1797-06-29</td>\n",
       "      <td>Thursday</td>\n",
       "      <td>New York County Sheriff's Office, NY</td>\n",
       "      <td>New York</td>\n",
       "      <td>0</td>\n",
       "    </tr>\n",
       "  </tbody>\n",
       "</table>\n",
       "</div>"
      ],
      "text/plain": [
       "             Rank                Name Cause_of_Death       Date       Day  \\\n",
       "0       Constable       Darius Quimby        Stabbed 1791-01-03    Monday   \n",
       "1         Sheriff  Cornelius Hogeboom        Gunfire 1791-10-22  Saturday   \n",
       "2  Deputy Sheriff         Isaac Smith        Gunfire 1792-05-17  Thursday   \n",
       "3         Marshal      Robert Forsyth        Gunfire 1794-01-11  Saturday   \n",
       "4  Deputy Sheriff      Robert Berwick        Gunfire 1797-06-29  Thursday   \n",
       "\n",
       "                                          Department     State  K9_Unit  \n",
       "0               Albany County Constable's Office, NY  New York        0  \n",
       "1               Columbia County Sheriff's Office, NY  New York        0  \n",
       "2        Westchester County Sheriff's Department, NY  New York        0  \n",
       "3  United States Department of Justice - United S...   Federal        0  \n",
       "4               New York County Sheriff's Office, NY  New York        0  "
      ]
     },
     "execution_count": 15,
     "metadata": {},
     "output_type": "execute_result"
    }
   ],
   "source": [
    "police_df.head()"
   ]
  },
  {
   "cell_type": "code",
   "execution_count": null,
   "metadata": {},
   "outputs": [],
   "source": []
  },
  {
   "cell_type": "markdown",
   "metadata": {},
   "source": [
    "# Data Visualization "
   ]
  },
  {
   "cell_type": "code",
   "execution_count": null,
   "metadata": {},
   "outputs": [],
   "source": []
  },
  {
   "cell_type": "code",
   "execution_count": null,
   "metadata": {},
   "outputs": [],
   "source": []
  },
  {
   "cell_type": "code",
   "execution_count": 13,
   "metadata": {},
   "outputs": [],
   "source": [
    "# setting the style and context \n",
    "sns.set_context('notebook')\n",
    "sns.set_style('whitegrid')"
   ]
  },
  {
   "cell_type": "code",
   "execution_count": null,
   "metadata": {},
   "outputs": [],
   "source": []
  }
 ],
 "metadata": {
  "kernelspec": {
   "display_name": "Python 3.8.5 ('base')",
   "language": "python",
   "name": "python3"
  },
  "language_info": {
   "codemirror_mode": {
    "name": "ipython",
    "version": 3
   },
   "file_extension": ".py",
   "mimetype": "text/x-python",
   "name": "python",
   "nbconvert_exporter": "python",
   "pygments_lexer": "ipython3",
   "version": "3.8.5"
  },
  "orig_nbformat": 4,
  "vscode": {
   "interpreter": {
    "hash": "fa975813ce91494bae1acddeba4922927a0efcf8e37e9eaf42ece94c03802cb6"
   }
  }
 },
 "nbformat": 4,
 "nbformat_minor": 2
}
